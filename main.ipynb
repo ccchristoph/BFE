{
 "cells": [
  {
   "cell_type": "code",
   "execution_count": 1,
   "metadata": {},
   "outputs": [
    {
     "name": "stderr",
     "output_type": "stream",
     "text": [
      "2023-12-03 02:39:42.423554: I tensorflow/core/util/port.cc:113] oneDNN custom operations are on. You may see slightly different numerical results due to floating-point round-off errors from different computation orders. To turn them off, set the environment variable `TF_ENABLE_ONEDNN_OPTS=0`.\n",
      "2023-12-03 02:39:42.449785: E external/local_xla/xla/stream_executor/cuda/cuda_dnn.cc:9261] Unable to register cuDNN factory: Attempting to register factory for plugin cuDNN when one has already been registered\n",
      "2023-12-03 02:39:42.449811: E external/local_xla/xla/stream_executor/cuda/cuda_fft.cc:607] Unable to register cuFFT factory: Attempting to register factory for plugin cuFFT when one has already been registered\n",
      "2023-12-03 02:39:42.450505: E external/local_xla/xla/stream_executor/cuda/cuda_blas.cc:1515] Unable to register cuBLAS factory: Attempting to register factory for plugin cuBLAS when one has already been registered\n",
      "2023-12-03 02:39:42.454799: I tensorflow/core/platform/cpu_feature_guard.cc:182] This TensorFlow binary is optimized to use available CPU instructions in performance-critical operations.\n",
      "To enable the following instructions: AVX2 AVX_VNNI FMA, in other operations, rebuild TensorFlow with the appropriate compiler flags.\n",
      "2023-12-03 02:39:42.979821: W tensorflow/compiler/tf2tensorrt/utils/py_utils.cc:38] TF-TRT Warning: Could not find TensorRT\n"
     ]
    },
    {
     "name": "stdout",
     "output_type": "stream",
     "text": [
      "Epoch 1/10\n"
     ]
    },
    {
     "name": "stderr",
     "output_type": "stream",
     "text": [
      "2023-12-03 02:39:43.534560: I external/local_xla/xla/stream_executor/cuda/cuda_executor.cc:901] successful NUMA node read from SysFS had negative value (-1), but there must be at least one NUMA node, so returning NUMA node zero. See more at https://github.com/torvalds/linux/blob/v6.0/Documentation/ABI/testing/sysfs-bus-pci#L344-L355\n",
      "2023-12-03 02:39:43.555735: I external/local_xla/xla/stream_executor/cuda/cuda_executor.cc:901] successful NUMA node read from SysFS had negative value (-1), but there must be at least one NUMA node, so returning NUMA node zero. See more at https://github.com/torvalds/linux/blob/v6.0/Documentation/ABI/testing/sysfs-bus-pci#L344-L355\n",
      "2023-12-03 02:39:43.555864: I external/local_xla/xla/stream_executor/cuda/cuda_executor.cc:901] successful NUMA node read from SysFS had negative value (-1), but there must be at least one NUMA node, so returning NUMA node zero. See more at https://github.com/torvalds/linux/blob/v6.0/Documentation/ABI/testing/sysfs-bus-pci#L344-L355\n",
      "2023-12-03 02:39:43.557856: I external/local_xla/xla/stream_executor/cuda/cuda_executor.cc:901] successful NUMA node read from SysFS had negative value (-1), but there must be at least one NUMA node, so returning NUMA node zero. See more at https://github.com/torvalds/linux/blob/v6.0/Documentation/ABI/testing/sysfs-bus-pci#L344-L355\n",
      "2023-12-03 02:39:43.558079: I external/local_xla/xla/stream_executor/cuda/cuda_executor.cc:901] successful NUMA node read from SysFS had negative value (-1), but there must be at least one NUMA node, so returning NUMA node zero. See more at https://github.com/torvalds/linux/blob/v6.0/Documentation/ABI/testing/sysfs-bus-pci#L344-L355\n",
      "2023-12-03 02:39:43.558258: I external/local_xla/xla/stream_executor/cuda/cuda_executor.cc:901] successful NUMA node read from SysFS had negative value (-1), but there must be at least one NUMA node, so returning NUMA node zero. See more at https://github.com/torvalds/linux/blob/v6.0/Documentation/ABI/testing/sysfs-bus-pci#L344-L355\n",
      "2023-12-03 02:39:43.609497: I external/local_xla/xla/stream_executor/cuda/cuda_executor.cc:901] successful NUMA node read from SysFS had negative value (-1), but there must be at least one NUMA node, so returning NUMA node zero. See more at https://github.com/torvalds/linux/blob/v6.0/Documentation/ABI/testing/sysfs-bus-pci#L344-L355\n",
      "2023-12-03 02:39:43.609644: I external/local_xla/xla/stream_executor/cuda/cuda_executor.cc:901] successful NUMA node read from SysFS had negative value (-1), but there must be at least one NUMA node, so returning NUMA node zero. See more at https://github.com/torvalds/linux/blob/v6.0/Documentation/ABI/testing/sysfs-bus-pci#L344-L355\n",
      "2023-12-03 02:39:43.609721: I external/local_xla/xla/stream_executor/cuda/cuda_executor.cc:901] successful NUMA node read from SysFS had negative value (-1), but there must be at least one NUMA node, so returning NUMA node zero. See more at https://github.com/torvalds/linux/blob/v6.0/Documentation/ABI/testing/sysfs-bus-pci#L344-L355\n",
      "2023-12-03 02:39:43.609790: I tensorflow/core/common_runtime/gpu/gpu_device.cc:1929] Created device /job:localhost/replica:0/task:0/device:GPU:0 with 6298 MB memory:  -> device: 0, name: NVIDIA GeForce RTX 4060 Laptop GPU, pci bus id: 0000:01:00.0, compute capability: 8.9\n",
      "2023-12-03 02:39:44.211352: I external/local_xla/xla/service/service.cc:168] XLA service 0x7f2b4d446780 initialized for platform CUDA (this does not guarantee that XLA will be used). Devices:\n",
      "2023-12-03 02:39:44.211376: I external/local_xla/xla/service/service.cc:176]   StreamExecutor device (0): NVIDIA GeForce RTX 4060 Laptop GPU, Compute Capability 8.9\n",
      "2023-12-03 02:39:44.216636: I tensorflow/compiler/mlir/tensorflow/utils/dump_mlir_util.cc:269] disabling MLIR crash reproducer, set env var `MLIR_CRASH_REPRODUCER_DIRECTORY` to enable.\n",
      "2023-12-03 02:39:44.227680: I external/local_xla/xla/stream_executor/cuda/cuda_dnn.cc:454] Loaded cuDNN version 8906\n",
      "WARNING: All log messages before absl::InitializeLog() is called are written to STDERR\n",
      "I0000 00:00:1701567584.290361    7897 device_compiler.h:186] Compiled cluster using XLA!  This line is logged at most once for the lifetime of the process.\n"
     ]
    },
    {
     "name": "stdout",
     "output_type": "stream",
     "text": [
      " 17/100 [====>.........................] - ETA: 0s - loss: 16.4482 - accuracy: 0.6812  WARNING:tensorflow:Your input ran out of data; interrupting training. Make sure that your dataset or generator can generate at least `steps_per_epoch * epochs` batches (in this case, 1000 batches). You may need to use the repeat() function when building your dataset.\n",
      "100/100 [==============================] - 1s 852us/step - loss: 14.2587 - accuracy: 0.7089\n"
     ]
    },
    {
     "data": {
      "text/plain": [
       "<keras.src.callbacks.History at 0x7f2c83f059c0>"
      ]
     },
     "execution_count": 1,
     "metadata": {},
     "output_type": "execute_result"
    }
   ],
   "source": [
    "# External imports\n",
    "import numpy as np\n",
    "import time\n",
    "import matplotlib.pyplot as plt\n",
    "\n",
    "# Own imports\n",
    "from packages.func import func\n",
    "import tensorflow as tf\n",
    "from sklearn.model_selection import train_test_split\n",
    "\n",
    "# # White noise\n",
    "# mean = 0\n",
    "# std = 1 \n",
    "# num_samples = 1000\n",
    "# samples = np.random.normal(mean, std, size=num_samples)\n",
    "\n",
    "# t0 = time.time()\n",
    "# cool_func = func(\"2 + 3*sin(x/2) + exp(x)^cos(x/3)\")\n",
    "# t1 = time.time()\n",
    "# print(cool_func.eval(np.pi))\n",
    "# t2 = time.time()\n",
    "\n",
    "# print(\"Time to define: \", t1-t0, \"s\", sep=\"\")\n",
    "# print(\"Time to eval: \", t2-t1, \"s\", sep=\"\")\n",
    "\n",
    "# # Sympy\n",
    "# import numpy as np\n",
    "# import time\n",
    "# from sympy import symbols, sin, exp, cos, lambdify\n",
    "\n",
    "# t0 = time.time()\n",
    "# x = symbols('x')\n",
    "# expr = 2 + 3*sin(x/2) + exp(x)**cos(x/3)\n",
    "# cool_func = lambdify(x, expr)\n",
    "# t1 = time.time()\n",
    "# print(cool_func(np.pi))\n",
    "# t2 = time.time()\n",
    "\n",
    "# print(\"Time to define: \", t1-t0, \"s\", sep=\"\")\n",
    "# print(\"Time to eval: \", t2-t1, \"s\", sep=\"\")\n",
    "\n",
    "\n",
    "# Defining basis functions:\n",
    "\n",
    "#basis_functions = ['c', 'x', 'cos', 'exp']\n",
    "\n",
    "def plot_sample(X):\n",
    "\n",
    "    num_samples = 100\n",
    "    start = -10\n",
    "    end = 10\n",
    "    step = (end - start)/100\n",
    "    eval_points = np.arange(start, end, step)\n",
    "\n",
    "    plt.plot(eval_points,X)\n",
    "    plt.show()\n",
    "\n",
    "def generate_sample(f: func) -> (np.array, np.array):\n",
    "\n",
    "    basis_function = f.get_value()\n",
    "    y = np.zeros(len(basis_functions))\n",
    "    for i in range(len(y)):\n",
    "        if basis_functions[i] == basis_function:\n",
    "            y[i] = 1\n",
    "\n",
    "    # mean = np.random.uniform(-0.1, 0.1, 1)\n",
    "    mean = 0\n",
    "    std = np.random.uniform(0.1, 0.3, 1)\n",
    "\n",
    "    num_samples = 100\n",
    "    start = -10\n",
    "    end = 10\n",
    "    step = (end - start)/100\n",
    "    eval_points = np.arange(start, end, step)\n",
    "\n",
    "    X = []\n",
    "    for point in eval_points:\n",
    "        X.append(f.eval(point))\n",
    "\n",
    "    noise = np.random.normal(mean, std, size=num_samples)\n",
    "    X = X + noise\n",
    "\n",
    "    return np.array(X), np.array(y)\n",
    "\n",
    "def generate_samples(f_list: list[func], num_samples: int | list[int], shuffle: bool = True) -> (np.array, np.array):\n",
    "    X_train = []\n",
    "    y_train = []\n",
    "\n",
    "    if isinstance(num_samples, int):\n",
    "        num_samples = [num_samples] * len(f_list)\n",
    "\n",
    "    for f_ind, f in enumerate(f_list):\n",
    "        curr_num = num_samples[f_ind]\n",
    "        for _ in range(curr_num):\n",
    "            X, y = generate_sample(f)\n",
    "            X_train.append(X)\n",
    "            y_train.append(y)\n",
    "\n",
    "    X_train = np.array(X_train)\n",
    "    y_train = np.array(y_train)\n",
    "\n",
    "    if shuffle:\n",
    "        idx = np.random.permutation(len(X_train))\n",
    "        return X_train[idx], y_train[idx]\n",
    "\n",
    "    return X_train, y_train\n",
    "\n",
    "\n",
    "basis_functions = ['0', 'x', 'x^2', 'x^3', 'sin(x)', 'exp(x)', 'cos(x)']\n",
    "f_list = []\n",
    "for f in basis_functions:\n",
    "    f_list.append(func(f))\n",
    "\n",
    "X, y = generate_samples(f_list, 10)\n",
    "\n",
    "\n",
    "def vanilla_neural_network(input_shape, output_num):\n",
    "    model = tf.keras.Sequential([\n",
    "        tf.keras.layers.Dense(128, activation='relu', input_shape=input_shape),\n",
    "        tf.keras.layers.Dense(128, activation='relu'),\n",
    "        tf.keras.layers.Dense(128, activation='relu'),\n",
    "        tf.keras.layers.Dense(output_num, activation='softmax')\n",
    "    ])\n",
    "\n",
    "    return model\n",
    "\n",
    "model = vanilla_neural_network(np.shape(X[0]), np.shape(y)[1])\n",
    "\n",
    "\n",
    "# Perform train-test split\n",
    "X_train, X_test, y_train, y_test = train_test_split(X, y, test_size=0.2, random_state=42)\n",
    "\n",
    "# Train the model using X_train_new\n",
    "model.compile(optimizer='adam', loss='categorical_crossentropy', metrics=['accuracy'])\n",
    "model.fit(X_train, y_train, epochs=10, batch_size=32, steps_per_epoch=100)\n",
    "\n"
   ]
  },
  {
   "cell_type": "code",
   "execution_count": 2,
   "metadata": {},
   "outputs": [
    {
     "data": {
      "image/png": "[encoded data removed]",
      "text/plain": [
       "<Figure size 640x480 with 1 Axes>"
      ]
     },
     "metadata": {},
     "output_type": "display_data"
    },
    {
     "name": "stdout",
     "output_type": "stream",
     "text": [
      "1/1 [==============================] - 0s 47ms/step\n",
      "[[0.001 0.023 0.064 0.734 0.145 0.028 0.006]\n",
      " [0.001 0.019 0.068 0.717 0.169 0.021 0.005]\n",
      " [0.001 0.023 0.089 0.745 0.122 0.016 0.004]\n",
      " [0.001 0.02  0.082 0.72  0.153 0.02  0.005]\n",
      " [0.001 0.021 0.074 0.707 0.174 0.019 0.005]\n",
      " [0.001 0.023 0.076 0.735 0.143 0.018 0.005]\n",
      " [0.001 0.021 0.074 0.722 0.152 0.024 0.005]\n",
      " [0.    0.019 0.08  0.742 0.131 0.022 0.006]\n",
      " [0.001 0.024 0.078 0.712 0.163 0.019 0.005]\n",
      " [0.001 0.024 0.082 0.72  0.148 0.021 0.005]\n",
      " [0.001 0.022 0.084 0.693 0.172 0.022 0.006]\n",
      " [0.    0.021 0.072 0.732 0.15  0.018 0.005]\n",
      " [0.001 0.023 0.074 0.743 0.138 0.017 0.004]\n",
      " [0.001 0.022 0.077 0.736 0.142 0.019 0.004]\n",
      " [0.001 0.024 0.083 0.713 0.156 0.019 0.005]\n",
      " [0.001 0.022 0.066 0.737 0.148 0.021 0.005]\n",
      " [0.001 0.021 0.076 0.72  0.157 0.02  0.005]\n",
      " [0.001 0.024 0.081 0.727 0.142 0.021 0.005]\n",
      " [0.001 0.023 0.074 0.742 0.134 0.022 0.005]\n",
      " [0.    0.022 0.082 0.702 0.17  0.018 0.005]]\n",
      "Number of rows where max(y_test)[row] == max(y_pred[row]): 0\n",
      "Number of rows where max(y_test)[row] != max(y_pred[row]): 20\n"
     ]
    }
   ],
   "source": [
    "\n",
    "# Test the model on X_test\n",
    "# y_pred = model.predict(X_test)\n",
    "X_test, y_test = generate_samples([func(\"(x*0.2)^5 + 2*sin(x)\")], 20)\n",
    "plot_sample(X_test[0])\n",
    "y_pred = model.predict(X_test)\n",
    "\n",
    "print(np.around(y_pred, 3))\n",
    "\n",
    "# Compare mean squared error of y_test and y_pred\n",
    "\n",
    "count = 0\n",
    "for i in range(len(y_test)):\n",
    "    if np.argmax(y_test[i]) == np.argmax(y_pred[i]):\n",
    "        count += 1\n",
    "\n",
    "print(\"Number of rows where max(y_test)[row] == max(y_pred[row]):\", count)\n",
    "print(\"Number of rows where max(y_test)[row] != max(y_pred[row]):\", len(y_test) - count)\n",
    "\n"
   ]
  },
  {
   "cell_type": "code",
   "execution_count": null,
   "metadata": {},
   "outputs": [],
   "source": [
    "def create_measuremenet_data(X_train: np.array) -> (np.array, np.array):\n",
    "    num_pts = np.shape(X_train)[1]\n",
    "    start = -10\n",
    "    end = 10\n",
    "    step = (end - start)/num_pts\n",
    "    eval_points = np.arange(start, end, step) + np.random.uniform(-step/2, step/2, size=num_pts)\n",
    "    return np.tile(eval_points, (np.shape(X_train)[0], 1)), X_train # X_train is the new \"y\", eval_pts are X (maybe assume 0 noise?)"
   ]
  },
  {
   "cell_type": "code",
   "execution_count": 3,
   "metadata": {},
   "outputs": [
    {
     "name": "stdout",
     "output_type": "stream",
     "text": [
      "3+2x^4\n"
     ]
    },
    {
     "data": {
      "text/plain": [
       "<packages.func.func at 0x7f2c707d0e80>"
      ]
     },
     "execution_count": 3,
     "metadata": {},
     "output_type": "execute_result"
    }
   ],
   "source": [
    "operations = [\"+\", \"-\", \"*\", \"/\", \"^\", \"ch\"] # No minus? # TODO: make global basic functions and operations variables; class?\n",
    "def BFE(basis_functions: list[func], depth: int = 10):\n",
    "    operations_prob = {key: '[]' for key in operations}\n",
    "    \n",
    "    # +\n",
    "    for basic_fun in basis_functions:\n",
    "        pass\n",
    "\n",
    "\n",
    "    # -\n",
    "\n",
    "    # *\n",
    "\n",
    "    # /\n",
    "\n",
    "    # ^\n",
    "\n",
    "    # ch\n",
    "        \n",
    "\n",
    "\n",
    "    return\n",
    "\n",
    "a = func(\"3+2\")\n",
    "b = func(\"x^4\")\n",
    "add = a + b\n",
    "add.print_tree(add.root)\n",
    "\n"
   ]
  }
 ],
 "metadata": {
  "kernelspec": {
   "display_name": ".venv",
   "language": "python",
   "name": "python3"
  },
  "language_info": {
   "codemirror_mode": {
    "name": "ipython",
    "version": 3
   },
   "file_extension": ".py",
   "mimetype": "text/x-python",
   "name": "python",
   "nbconvert_exporter": "python",
   "pygments_lexer": "ipython3",
   "version": "3.10.12"
  }
 },
 "nbformat": 4,
 "nbformat_minor": 2
}
