{
 "cells": [
  {
   "cell_type": "markdown",
   "metadata": {},
   "source": [
    "#### Analytical Function Estimator: Reinforcement Learning\n"
   ]
  },
  {
   "cell_type": "code",
   "execution_count": 1,
   "metadata": {},
   "outputs": [],
   "source": [
    "from packages.func import func\n",
    "import numpy as np\n",
    "import random\n",
    "from math import cos\n",
    "import matplotlib.pyplot as plt"
   ]
  },
  {
   "cell_type": "code",
   "execution_count": 2,
   "metadata": {},
   "outputs": [],
   "source": [
    "\n",
    "def get_eval_points():\n",
    "    num_samples = 100\n",
    "    start = -10\n",
    "    end = 10\n",
    "    step = (end - start)/num_samples\n",
    "    return np.arange(start, end, step)\n",
    "\n",
    "def generate_sample(f: func) -> (np.array, np.array):\n",
    "  \n",
    "    eval_points = get_eval_points()\n",
    "    # Modeling noise\n",
    "    mean = 0\n",
    "    std = np.random.uniform(0.1, 0.3, 1)\n",
    "    noise = np.random.normal(mean, std, size=len(eval_points))\n",
    "\n",
    "    X = f.eval(eval_points)\n",
    "    X = X + noise\n",
    "\n",
    "    return np.array(X)"
   ]
  },
  {
   "cell_type": "code",
   "execution_count": 3,
   "metadata": {},
   "outputs": [],
   "source": [
    "# State Representation\n",
    "def initial_state():\n",
    "    return func(\"0\")  # Empty tree to start with\n",
    "\n",
    "\"\"\"\n",
    "Action Space: All possible operations on the tree that should be made by the\n",
    "agent. Make sure to implement them in the class. \n",
    "\"\"\"\n",
    "\n",
    "# Environment Simulation\n",
    "def step(state, action):\n",
    "    # Apply action to the state\n",
    "    if action == \"add_const\":\n",
    "        new_state = state + func(\"1\")\n",
    "    elif action == \"add_x\":\n",
    "        new_state = state + func(\"x\")\n",
    "    elif action == \"del_x\":\n",
    "        new_state = state - func(\"x\")\n",
    "    elif action == \"del_const\":\n",
    "        new_state = state - func(\"1\")\n",
    "\n",
    "    return new_state"
   ]
  },
  {
   "cell_type": "code",
   "execution_count": 4,
   "metadata": {},
   "outputs": [],
   "source": [
    "# TODO: include the fourier analysis as a reward\n",
    "\n",
    "def reward(state: func, data: np.array):\n",
    "    \n",
    "    # Evaluate the current state and return a reward\n",
    "    try:\n",
    "        eval_state = state.eval(get_eval_points())\n",
    "        diff = eval_state - data\n",
    "        squared_sum = 0\n",
    "        for d in diff:\n",
    "            squared_sum += np.square(d)\n",
    "        error = np.sqrt(squared_sum)\n",
    "        print(\"Error \", error)\n",
    "        #complexity_penalty = state.get_size() # Simple complexity measure\n",
    "        #print(\"Compl Penalty \", complexity_penalty)\n",
    "        \n",
    "        return -0.1*error\n",
    "    \n",
    "    except:\n",
    "        print(\"We had a problem fellas\")\n",
    "        return -float('inf')  # Penalize invalid states\n"
   ]
  },
  {
   "cell_type": "code",
   "execution_count": 5,
   "metadata": {},
   "outputs": [],
   "source": [
    "f = func(\"x + 3\")\n",
    "data = generate_sample(f)\n",
    "state = initial_state()\n",
    "\n",
    "actions = [\"add_const\", \"add_x\", \"del_x\", \"del_const\"]"
   ]
  },
  {
   "cell_type": "code",
   "execution_count": 6,
   "metadata": {},
   "outputs": [
    {
     "name": "stdout",
     "output_type": "stream",
     "text": [
      "Error  58.64115178310994\n",
      "We chose  add_const\n",
      "Rewarded value:  -5.864115178310994\n",
      "current state  (0)+(1)\n",
      "Good accuracy achieved with fct  (0)+(1)\n"
     ]
    },
    {
     "data": {
      "image/png": "[encoded data removed]",
      "text/plain": [
       "<Figure size 640x480 with 1 Axes>"
      ]
     },
     "metadata": {},
     "output_type": "display_data"
    }
   ],
   "source": [
    "\n",
    "# Q-Learning\n",
    "Q = {}\n",
    "learning_rate = 0.1\n",
    "discount_factor = 0.9\n",
    "epsilon = 0.1  # Exploration rate\n",
    "\n",
    "f = func(\"x\")\n",
    "data = generate_sample(f)\n",
    "\n",
    "def q_learning_episode():\n",
    "    max_iter = 0\n",
    "    state = initial_state()\n",
    "    while max_iter < 300:\n",
    "        if random.uniform(0, 1) < epsilon:\n",
    "            action = random.choice(actions)  # Explore\n",
    "        else:\n",
    "            q_values = [Q.get((state, a), 0) for a in actions]\n",
    "            max_q = max(q_values)\n",
    "            action = actions[q_values.index(max_q)]  # Exploit\n",
    "\n",
    "        new_state = step(state, action)\n",
    "        reward_value = reward(new_state, data)\n",
    "        print(\"We chose \", action)\n",
    "        print(\"Rewarded value: \", reward_value)\n",
    "        print(\"current state \", new_state.get_value())\n",
    "\n",
    "        if reward_value > -10:\n",
    "            print(\"Good accuracy achieved with fct \", new_state.get_value())\n",
    "            X_est = new_state.eval(get_eval_points())\n",
    "            #print(get_eval_points())\n",
    "            plt.plot(get_eval_points(), X_est)\n",
    "            plt.plot(get_eval_points(), data)\n",
    "            plt.show()\n",
    "            return True\n",
    "\n",
    "        # Update Q-value\n",
    "        old_q = Q.get((state, action), 0)\n",
    "        max_future_q = max([Q.get((new_state, a), 0) for a in actions])\n",
    "        new_q = (1 - learning_rate) * old_q + learning_rate * (reward_value + discount_factor * max_future_q)\n",
    "        Q[(state, action)] = new_q\n",
    "\n",
    "        state = new_state\n",
    "\n",
    "        max_iter += 1\n",
    "        print(\"\\n\\n\")\n",
    "       \n",
    "\n",
    "# Run episodes\n",
    "for _ in range(100):\n",
    "    if(q_learning_episode()):\n",
    "        break\n"
   ]
  }
 ],
 "metadata": {
  "kernelspec": {
   "display_name": ".venv",
   "language": "python",
   "name": "python3"
  },
  "language_info": {
   "codemirror_mode": {
    "name": "ipython",
    "version": 3
   },
   "file_extension": ".py",
   "mimetype": "text/x-python",
   "name": "python",
   "nbconvert_exporter": "python",
   "pygments_lexer": "ipython3",
   "version": "3.10.13"
  }
 },
 "nbformat": 4,
 "nbformat_minor": 2
}
