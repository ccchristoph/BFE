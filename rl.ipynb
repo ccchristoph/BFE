{
 "cells": [
  {
   "cell_type": "markdown",
   "metadata": {},
   "source": [
    "#### Analytical Function Estimator: Reinforcement Learning\n"
   ]
  },
  {
   "cell_type": "code",
   "execution_count": 1,
   "metadata": {},
   "outputs": [
    {
     "name": "stdout",
     "output_type": "stream",
     "text": [
      "add:\n",
      "(3+3*x)+(sin(x)+2)\n",
      "           (3+3*x)+(sin(x)+2)           \n",
      "       3+3*x              sin(x)+2      \n",
      "    3        3*x      sin(x)      2     \n",
      "            3    x   sin   x            \n",
      "\n",
      "\n",
      "\n",
      "sub:\n",
      "(3+3*x)-(sin(x)+2)\n"
     ]
    },
    {
     "ename": "TypeError",
     "evalue": "object of type 'NoneType' has no len()",
     "output_type": "error",
     "traceback": [
      "\u001b[0;31m---------------------------------------------------------------------------\u001b[0m",
      "\u001b[0;31mTypeError\u001b[0m                                 Traceback (most recent call last)",
      "\u001b[1;32m/Users/clemenschristoph/GitHub/BFE/rl.ipynb Cell 2\u001b[0m line \u001b[0;36m1\n\u001b[0;32m----> <a href='vscode-notebook-cell:/Users/clemenschristoph/GitHub/BFE/rl.ipynb#W5sZmlsZQ%3D%3D?line=0'>1</a>\u001b[0m \u001b[39mfrom\u001b[39;00m \u001b[39mpackages\u001b[39;00m\u001b[39m.\u001b[39;00m\u001b[39mfunc\u001b[39;00m \u001b[39mimport\u001b[39;00m func\n\u001b[1;32m      <a href='vscode-notebook-cell:/Users/clemenschristoph/GitHub/BFE/rl.ipynb#W5sZmlsZQ%3D%3D?line=1'>2</a>\u001b[0m \u001b[39mimport\u001b[39;00m \u001b[39mnumpy\u001b[39;00m \u001b[39mas\u001b[39;00m \u001b[39mnp\u001b[39;00m\n\u001b[1;32m      <a href='vscode-notebook-cell:/Users/clemenschristoph/GitHub/BFE/rl.ipynb#W5sZmlsZQ%3D%3D?line=2'>3</a>\u001b[0m \u001b[39mimport\u001b[39;00m \u001b[39mrandom\u001b[39;00m\n",
      "File \u001b[0;32m~/GitHub/BFE/packages/func.py:609\u001b[0m\n\u001b[1;32m    607\u001b[0m sub \u001b[39m=\u001b[39m f \u001b[39m-\u001b[39m g\n\u001b[1;32m    608\u001b[0m \u001b[39mprint\u001b[39m(\u001b[39m\"\u001b[39m\u001b[39msub:\u001b[39m\u001b[39m\"\u001b[39m)\n\u001b[0;32m--> 609\u001b[0m sub\u001b[39m.\u001b[39;49mprint_tree()\n\u001b[1;32m    610\u001b[0m mult \u001b[39m=\u001b[39m f\u001b[39m*\u001b[39mg\n\u001b[1;32m    611\u001b[0m \u001b[39mprint\u001b[39m(\u001b[39m\"\u001b[39m\u001b[39mmult:\u001b[39m\u001b[39m\"\u001b[39m)\n",
      "File \u001b[0;32m~/GitHub/BFE/packages/func.py:130\u001b[0m, in \u001b[0;36mfunc.print_tree\u001b[0;34m(self, curr_node)\u001b[0m\n\u001b[1;32m    126\u001b[0m             depth_array[dep]\u001b[39m.\u001b[39mappend(elem_type)\n\u001b[1;32m    128\u001b[0m     \u001b[39mreturn\u001b[39;00m depth_array\n\u001b[0;32m--> 130\u001b[0m max_depth \u001b[39m=\u001b[39m \u001b[39mlen\u001b[39;49m(tree_dict) \u001b[39m-\u001b[39m \u001b[39m1\u001b[39m\n\u001b[1;32m    132\u001b[0m depth_array \u001b[39m=\u001b[39m create_depth_array(max_depth)\n\u001b[1;32m    133\u001b[0m \u001b[39m# print(\"Depth array before:\\n\", depth_array)\u001b[39;00m\n",
      "\u001b[0;31mTypeError\u001b[0m: object of type 'NoneType' has no len()"
     ]
    }
   ],
   "source": [
    "from packages.func import func\n",
    "import numpy as np\n",
    "import random\n",
    "from math import cos"
   ]
  },
  {
   "cell_type": "code",
   "execution_count": null,
   "metadata": {},
   "outputs": [],
   "source": [
    "# State Representation\n",
    "def initial_state():\n",
    "    return func(\"0\")  # Empty tree to start with\n",
    "\n",
    "\"\"\"\n",
    "Action Space: All possible operations on the tree that should be made by the\n",
    "agent. Make sure to implement them in the class. \n",
    "\"\"\"\n",
    "actions = [\"add_x\", \"add_cos\", \"add_plus\"]\n",
    "\n",
    "# Environment Simulation\n",
    "def step(state, action):\n",
    "    # Apply action to the state\n",
    "    # For simplicity, actions are just concatenated to the string\n",
    "    if action == \"add_cos\":\n",
    "        new_state = state + \"cos(x)\"\n",
    "    elif action == \"add_x\":\n",
    "        new_state = state + \"x\"\n",
    "    elif action == \"add_plus\":\n",
    "        new_state = state + \"+\"\n",
    "    return new_state"
   ]
  },
  {
   "cell_type": "code",
   "execution_count": null,
   "metadata": {},
   "outputs": [],
   "source": [
    "# TODO: include the fourier analysis as a reward\n",
    "\n",
    "def reward(state):\n",
    "    \n",
    "    # Evaluate the current state and return a reward\n",
    "    # This is a placeholder for actual evaluation\n",
    "    try:\n",
    "        # Evaluate the string as a function of x\n",
    "        eval_state = eval(\"lambda x: \" + state)\n",
    "        error = sum([(eval_state(x) - (cos(x) + x))**2 for x in np.linspace(-10, 10, 100)])\n",
    "        complexity_penalty = state.count(\"(\")  # Simple complexity measure\n",
    "        return -error - complexity_penalty\n",
    "    except:\n",
    "        return -float('inf')  # Penalize invalid states\n"
   ]
  },
  {
   "cell_type": "code",
   "execution_count": null,
   "metadata": {},
   "outputs": [],
   "source": [
    "\n",
    "# Q-Learning\n",
    "Q = {}\n",
    "learning_rate = 0.1\n",
    "discount_factor = 0.9\n",
    "epsilon = 0.1  # Exploration rate\n",
    "\n",
    "def q_learning_episode():\n",
    "    state = initial_state()\n",
    "    while True:\n",
    "        if random.uniform(0, 1) < epsilon:\n",
    "            action = random.choice(actions)  # Explore\n",
    "        else:\n",
    "            q_values = [Q.get((state, a), 0) for a in actions]\n",
    "            max_q = max(q_values)\n",
    "            action = actions[q_values.index(max_q)]  # Exploit\n",
    "\n",
    "        new_state = step(state, action)\n",
    "        reward_value = reward(new_state)\n",
    "\n",
    "        # Update Q-value\n",
    "        old_q = Q.get((state, action), 0)\n",
    "        max_future_q = max([Q.get((new_state, a), 0) for a in actions])\n",
    "        new_q = (1 - learning_rate) * old_q + learning_rate * (reward_value + discount_factor * max_future_q)\n",
    "        Q[(state, action)] = new_q\n",
    "\n",
    "        state = new_state\n",
    "        if state == \"+(cos(x), x)\":  # Goal state\n",
    "            break\n",
    "\n",
    "# Run episodes\n",
    "for _ in range(100):\n",
    "    q_learning_episode()\n"
   ]
  }
 ],
 "metadata": {
  "kernelspec": {
   "display_name": ".venv",
   "language": "python",
   "name": "python3"
  },
  "language_info": {
   "codemirror_mode": {
    "name": "ipython",
    "version": 3
   },
   "file_extension": ".py",
   "mimetype": "text/x-python",
   "name": "python",
   "nbconvert_exporter": "python",
   "pygments_lexer": "ipython3",
   "version": "3.10.13"
  }
 },
 "nbformat": 4,
 "nbformat_minor": 2
}
