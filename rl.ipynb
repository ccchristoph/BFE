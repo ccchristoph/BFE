{
 "cells": [
  {
   "cell_type": "markdown",
   "metadata": {},
   "source": [
    "#### Analytical Function Estimator: Reinforcement Learning\n"
   ]
  },
  {
   "cell_type": "code",
   "execution_count": 3,
   "metadata": {},
   "outputs": [],
   "source": [
    "from packages.func import func\n",
    "import numpy as np\n",
    "import random\n",
    "from math import cos"
   ]
  },
  {
   "cell_type": "code",
   "execution_count": 4,
   "metadata": {},
   "outputs": [],
   "source": [
    "# State Representation\n",
    "def initial_state():\n",
    "    return func(\"0\")  # Empty tree to start with\n",
    "\n",
    "\"\"\"\n",
    "Action Space: All possible operations on the tree that should be made by the\n",
    "agent. Make sure to implement them in the class. \n",
    "\"\"\"\n",
    "actions = [\"add_x\", \"add_cos\"]\n",
    "\n",
    "# Environment Simulation\n",
    "def step(state, action):\n",
    "    # Apply action to the state\n",
    "    # For simplicity, actions are just concatenated to the string\n",
    "    if action == \"add_cos\":\n",
    "        new_state = state + func(\"cos(x)\")\n",
    "    elif action == \"add_x\":\n",
    "        new_state = state + func(\"x\")\n",
    "    return new_state"
   ]
  },
  {
   "cell_type": "code",
   "execution_count": null,
   "metadata": {},
   "outputs": [],
   "source": [
    "# TODO: include the fourier analysis as a reward\n",
    "\n",
    "def reward(state):\n",
    "    \n",
    "    # Evaluate the current state and return a reward\n",
    "    # This is a placeholder for actual evaluation\n",
    "    try:\n",
    "        # Evaluate the string as a function of x\n",
    "        eval_state = eval(\"lambda x: \" + state)\n",
    "        error = sum([(eval_state(x) - (cos(x) + x))**2 for x in np.linspace(-10, 10, 100)])\n",
    "        complexity_penalty = state.count(\"(\")  # Simple complexity measure\n",
    "        return -error - complexity_penalty\n",
    "    except:\n",
    "        return -float('inf')  # Penalize invalid states\n"
   ]
  },
  {
   "cell_type": "code",
   "execution_count": null,
   "metadata": {},
   "outputs": [],
   "source": [
    "\n",
    "# Q-Learning\n",
    "Q = {}\n",
    "learning_rate = 0.1\n",
    "discount_factor = 0.9\n",
    "epsilon = 0.1  # Exploration rate\n",
    "\n",
    "def q_learning_episode():\n",
    "    state = initial_state()\n",
    "    while True:\n",
    "        if random.uniform(0, 1) < epsilon:\n",
    "            action = random.choice(actions)  # Explore\n",
    "        else:\n",
    "            q_values = [Q.get((state, a), 0) for a in actions]\n",
    "            max_q = max(q_values)\n",
    "            action = actions[q_values.index(max_q)]  # Exploit\n",
    "\n",
    "        new_state = step(state, action)\n",
    "        reward_value = reward(new_state)\n",
    "\n",
    "        # Update Q-value\n",
    "        old_q = Q.get((state, action), 0)\n",
    "        max_future_q = max([Q.get((new_state, a), 0) for a in actions])\n",
    "        new_q = (1 - learning_rate) * old_q + learning_rate * (reward_value + discount_factor * max_future_q)\n",
    "        Q[(state, action)] = new_q\n",
    "\n",
    "        state = new_state\n",
    "        if state == \"+(cos(x), x)\":  # Goal state\n",
    "            break\n",
    "\n",
    "# Run episodes\n",
    "for _ in range(100):\n",
    "    q_learning_episode()\n"
   ]
  }
 ],
 "metadata": {
  "kernelspec": {
   "display_name": ".venv",
   "language": "python",
   "name": "python3"
  },
  "language_info": {
   "codemirror_mode": {
    "name": "ipython",
    "version": 3
   },
   "file_extension": ".py",
   "mimetype": "text/x-python",
   "name": "python",
   "nbconvert_exporter": "python",
   "pygments_lexer": "ipython3",
   "version": "3.10.13"
  }
 },
 "nbformat": 4,
 "nbformat_minor": 2
}
